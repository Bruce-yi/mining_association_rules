{
 "cells": [
  {
   "cell_type": "code",
   "execution_count": 1,
   "metadata": {},
   "outputs": [],
   "source": [
    "import csv\n",
    "import pandas as pd\n",
    "import itertools"
   ]
  },
  {
   "cell_type": "code",
   "execution_count": 2,
   "metadata": {},
   "outputs": [],
   "source": [
    "data = pd.read_csv('C:\\\\vscodestation\\\\jupyter\\\\wine\\\\winemag-data-130k-v2.csv', index_col=0)"
   ]
  },
  {
   "cell_type": "code",
   "execution_count": 3,
   "metadata": {},
   "outputs": [
    {
     "data": {
      "text/html": [
       "<div>\n",
       "<style scoped>\n",
       "    .dataframe tbody tr th:only-of-type {\n",
       "        vertical-align: middle;\n",
       "    }\n",
       "\n",
       "    .dataframe tbody tr th {\n",
       "        vertical-align: top;\n",
       "    }\n",
       "\n",
       "    .dataframe thead th {\n",
       "        text-align: right;\n",
       "    }\n",
       "</style>\n",
       "<table border=\"1\" class=\"dataframe\">\n",
       "  <thead>\n",
       "    <tr style=\"text-align: right;\">\n",
       "      <th></th>\n",
       "      <th>country</th>\n",
       "      <th>description</th>\n",
       "      <th>designation</th>\n",
       "      <th>points</th>\n",
       "      <th>price</th>\n",
       "      <th>province</th>\n",
       "      <th>region_1</th>\n",
       "      <th>region_2</th>\n",
       "      <th>taster_name</th>\n",
       "      <th>taster_twitter_handle</th>\n",
       "      <th>title</th>\n",
       "      <th>variety</th>\n",
       "      <th>winery</th>\n",
       "    </tr>\n",
       "  </thead>\n",
       "  <tbody>\n",
       "    <tr>\n",
       "      <th>0</th>\n",
       "      <td>Italy</td>\n",
       "      <td>Aromas include tropical fruit, broom, brimston...</td>\n",
       "      <td>Vulkà Bianco</td>\n",
       "      <td>87</td>\n",
       "      <td>NaN</td>\n",
       "      <td>Sicily &amp; Sardinia</td>\n",
       "      <td>Etna</td>\n",
       "      <td>NaN</td>\n",
       "      <td>Kerin O’Keefe</td>\n",
       "      <td>@kerinokeefe</td>\n",
       "      <td>Nicosia 2013 Vulkà Bianco  (Etna)</td>\n",
       "      <td>White Blend</td>\n",
       "      <td>Nicosia</td>\n",
       "    </tr>\n",
       "    <tr>\n",
       "      <th>1</th>\n",
       "      <td>Portugal</td>\n",
       "      <td>This is ripe and fruity, a wine that is smooth...</td>\n",
       "      <td>Avidagos</td>\n",
       "      <td>87</td>\n",
       "      <td>15.0</td>\n",
       "      <td>Douro</td>\n",
       "      <td>NaN</td>\n",
       "      <td>NaN</td>\n",
       "      <td>Roger Voss</td>\n",
       "      <td>@vossroger</td>\n",
       "      <td>Quinta dos Avidagos 2011 Avidagos Red (Douro)</td>\n",
       "      <td>Portuguese Red</td>\n",
       "      <td>Quinta dos Avidagos</td>\n",
       "    </tr>\n",
       "    <tr>\n",
       "      <th>2</th>\n",
       "      <td>US</td>\n",
       "      <td>Tart and snappy, the flavors of lime flesh and...</td>\n",
       "      <td>NaN</td>\n",
       "      <td>87</td>\n",
       "      <td>14.0</td>\n",
       "      <td>Oregon</td>\n",
       "      <td>Willamette Valley</td>\n",
       "      <td>Willamette Valley</td>\n",
       "      <td>Paul Gregutt</td>\n",
       "      <td>@paulgwine</td>\n",
       "      <td>Rainstorm 2013 Pinot Gris (Willamette Valley)</td>\n",
       "      <td>Pinot Gris</td>\n",
       "      <td>Rainstorm</td>\n",
       "    </tr>\n",
       "    <tr>\n",
       "      <th>3</th>\n",
       "      <td>US</td>\n",
       "      <td>Pineapple rind, lemon pith and orange blossom ...</td>\n",
       "      <td>Reserve Late Harvest</td>\n",
       "      <td>87</td>\n",
       "      <td>13.0</td>\n",
       "      <td>Michigan</td>\n",
       "      <td>Lake Michigan Shore</td>\n",
       "      <td>NaN</td>\n",
       "      <td>Alexander Peartree</td>\n",
       "      <td>NaN</td>\n",
       "      <td>St. Julian 2013 Reserve Late Harvest Riesling ...</td>\n",
       "      <td>Riesling</td>\n",
       "      <td>St. Julian</td>\n",
       "    </tr>\n",
       "    <tr>\n",
       "      <th>4</th>\n",
       "      <td>US</td>\n",
       "      <td>Much like the regular bottling from 2012, this...</td>\n",
       "      <td>Vintner's Reserve Wild Child Block</td>\n",
       "      <td>87</td>\n",
       "      <td>65.0</td>\n",
       "      <td>Oregon</td>\n",
       "      <td>Willamette Valley</td>\n",
       "      <td>Willamette Valley</td>\n",
       "      <td>Paul Gregutt</td>\n",
       "      <td>@paulgwine</td>\n",
       "      <td>Sweet Cheeks 2012 Vintner's Reserve Wild Child...</td>\n",
       "      <td>Pinot Noir</td>\n",
       "      <td>Sweet Cheeks</td>\n",
       "    </tr>\n",
       "  </tbody>\n",
       "</table>\n",
       "</div>"
      ],
      "text/plain": [
       "    country                                        description  \\\n",
       "0     Italy  Aromas include tropical fruit, broom, brimston...   \n",
       "1  Portugal  This is ripe and fruity, a wine that is smooth...   \n",
       "2        US  Tart and snappy, the flavors of lime flesh and...   \n",
       "3        US  Pineapple rind, lemon pith and orange blossom ...   \n",
       "4        US  Much like the regular bottling from 2012, this...   \n",
       "\n",
       "                          designation  points  price           province  \\\n",
       "0                        Vulkà Bianco      87    NaN  Sicily & Sardinia   \n",
       "1                            Avidagos      87   15.0              Douro   \n",
       "2                                 NaN      87   14.0             Oregon   \n",
       "3                Reserve Late Harvest      87   13.0           Michigan   \n",
       "4  Vintner's Reserve Wild Child Block      87   65.0             Oregon   \n",
       "\n",
       "              region_1           region_2         taster_name  \\\n",
       "0                 Etna                NaN       Kerin O’Keefe   \n",
       "1                  NaN                NaN          Roger Voss   \n",
       "2    Willamette Valley  Willamette Valley        Paul Gregutt   \n",
       "3  Lake Michigan Shore                NaN  Alexander Peartree   \n",
       "4    Willamette Valley  Willamette Valley        Paul Gregutt   \n",
       "\n",
       "  taster_twitter_handle                                              title  \\\n",
       "0          @kerinokeefe                  Nicosia 2013 Vulkà Bianco  (Etna)   \n",
       "1            @vossroger      Quinta dos Avidagos 2011 Avidagos Red (Douro)   \n",
       "2           @paulgwine       Rainstorm 2013 Pinot Gris (Willamette Valley)   \n",
       "3                   NaN  St. Julian 2013 Reserve Late Harvest Riesling ...   \n",
       "4           @paulgwine   Sweet Cheeks 2012 Vintner's Reserve Wild Child...   \n",
       "\n",
       "          variety               winery  \n",
       "0     White Blend              Nicosia  \n",
       "1  Portuguese Red  Quinta dos Avidagos  \n",
       "2      Pinot Gris            Rainstorm  \n",
       "3        Riesling           St. Julian  \n",
       "4      Pinot Noir         Sweet Cheeks  "
      ]
     },
     "execution_count": 3,
     "metadata": {},
     "output_type": "execute_result"
    }
   ],
   "source": [
    "data.head(5)"
   ]
  },
  {
   "cell_type": "markdown",
   "metadata": {},
   "source": [
    "## 1.对数据集进行处理，转换成适合进行关联规则挖掘的形式"
   ]
  },
  {
   "cell_type": "markdown",
   "metadata": {},
   "source": [
    "### 对于原始数据集，首先删除对频繁模式和关联规则没有意义的列和冗余的列：‘description’，‘taster_twitter_handle’，‘title’"
   ]
  },
  {
   "cell_type": "code",
   "execution_count": 4,
   "metadata": {},
   "outputs": [],
   "source": [
    "data = data.drop(['description', 'taster_twitter_handle', 'title'], axis=1)"
   ]
  },
  {
   "cell_type": "markdown",
   "metadata": {},
   "source": [
    "### 处理缺失值"
   ]
  },
  {
   "cell_type": "code",
   "execution_count": 5,
   "metadata": {},
   "outputs": [],
   "source": [
    "data = data.dropna()"
   ]
  },
  {
   "cell_type": "markdown",
   "metadata": {},
   "source": [
    "### 去除每一列频率小于1%的记录"
   ]
  },
  {
   "cell_type": "code",
   "execution_count": 6,
   "metadata": {},
   "outputs": [],
   "source": [
    "for attr in data:\n",
    "    n = len(data)\n",
    "    data = data[data.groupby(attr)[attr].transform('count').ge(0.01*n)]"
   ]
  },
  {
   "cell_type": "markdown",
   "metadata": {},
   "source": [
    "### 对数值属性‘points’和‘price’进行离散化处理和概念分层"
   ]
  },
  {
   "cell_type": "code",
   "execution_count": 7,
   "metadata": {},
   "outputs": [
    {
     "name": "stdout",
     "output_type": "stream",
     "text": [
      "max:  94\n",
      "min:  82\n"
     ]
    }
   ],
   "source": [
    "print('max: ',data['points'].max())\n",
    "print('min: ',data['points'].min())"
   ]
  },
  {
   "cell_type": "markdown",
   "metadata": {},
   "source": [
    "### 'points'分布于82-94之间，划分为四个层次：\n",
    "### [82, 86]: bad,  (86, 90]: normal，(90, 94]: good"
   ]
  },
  {
   "cell_type": "code",
   "execution_count": 8,
   "metadata": {},
   "outputs": [],
   "source": [
    "data['points'] = pd.cut(data['points'], [81, 86, 90, 94], labels=['bad', 'normal', 'good'])"
   ]
  },
  {
   "cell_type": "code",
   "execution_count": 9,
   "metadata": {},
   "outputs": [
    {
     "name": "stdout",
     "output_type": "stream",
     "text": [
      "max:  55.0\n",
      "min:  14.0\n"
     ]
    }
   ],
   "source": [
    "print('max: ',data['price'].max())\n",
    "print('min: ',data['price'].min())"
   ]
  },
  {
   "cell_type": "markdown",
   "metadata": {},
   "source": [
    "### ‘price’分布于14-55之间，划分为四个层次：\n",
    "### [14, 24]:low，(24, 34]:general，(34, 44]:high，(44, 55]:highest"
   ]
  },
  {
   "cell_type": "code",
   "execution_count": 10,
   "metadata": {},
   "outputs": [],
   "source": [
    "data['price'] = pd.cut(data['price'], [13, 24, 34, 44, 55], labels=['low', 'general', 'high', 'highest'])"
   ]
  },
  {
   "cell_type": "markdown",
   "metadata": {},
   "source": [
    "### 查看数据"
   ]
  },
  {
   "cell_type": "code",
   "execution_count": 11,
   "metadata": {},
   "outputs": [
    {
     "data": {
      "text/html": [
       "<div>\n",
       "<style scoped>\n",
       "    .dataframe tbody tr th:only-of-type {\n",
       "        vertical-align: middle;\n",
       "    }\n",
       "\n",
       "    .dataframe tbody tr th {\n",
       "        vertical-align: top;\n",
       "    }\n",
       "\n",
       "    .dataframe thead th {\n",
       "        text-align: right;\n",
       "    }\n",
       "</style>\n",
       "<table border=\"1\" class=\"dataframe\">\n",
       "  <thead>\n",
       "    <tr style=\"text-align: right;\">\n",
       "      <th></th>\n",
       "      <th>country</th>\n",
       "      <th>designation</th>\n",
       "      <th>points</th>\n",
       "      <th>price</th>\n",
       "      <th>province</th>\n",
       "      <th>region_1</th>\n",
       "      <th>region_2</th>\n",
       "      <th>taster_name</th>\n",
       "      <th>variety</th>\n",
       "      <th>winery</th>\n",
       "    </tr>\n",
       "  </thead>\n",
       "  <tbody>\n",
       "    <tr>\n",
       "      <th>260</th>\n",
       "      <td>US</td>\n",
       "      <td>Estate</td>\n",
       "      <td>normal</td>\n",
       "      <td>high</td>\n",
       "      <td>Oregon</td>\n",
       "      <td>Willamette Valley</td>\n",
       "      <td>Willamette Valley</td>\n",
       "      <td>Paul Gregutt</td>\n",
       "      <td>Pinot Noir</td>\n",
       "      <td>Willamette Valley Vineyards</td>\n",
       "    </tr>\n",
       "    <tr>\n",
       "      <th>1939</th>\n",
       "      <td>US</td>\n",
       "      <td>Reserve</td>\n",
       "      <td>normal</td>\n",
       "      <td>low</td>\n",
       "      <td>Washington</td>\n",
       "      <td>Columbia Valley (WA)</td>\n",
       "      <td>Columbia Valley</td>\n",
       "      <td>Sean P. Sullivan</td>\n",
       "      <td>Chardonnay</td>\n",
       "      <td>Waterbrook</td>\n",
       "    </tr>\n",
       "    <tr>\n",
       "      <th>2557</th>\n",
       "      <td>US</td>\n",
       "      <td>Estate</td>\n",
       "      <td>normal</td>\n",
       "      <td>low</td>\n",
       "      <td>California</td>\n",
       "      <td>Santa Clara Valley</td>\n",
       "      <td>Central Coast</td>\n",
       "      <td>Matt Kettmann</td>\n",
       "      <td>Merlot</td>\n",
       "      <td>Jason-Stephens</td>\n",
       "    </tr>\n",
       "    <tr>\n",
       "      <th>2568</th>\n",
       "      <td>US</td>\n",
       "      <td>Estate Grown</td>\n",
       "      <td>normal</td>\n",
       "      <td>general</td>\n",
       "      <td>Washington</td>\n",
       "      <td>Columbia Valley (WA)</td>\n",
       "      <td>Columbia Valley</td>\n",
       "      <td>Sean P. Sullivan</td>\n",
       "      <td>Malbec</td>\n",
       "      <td>Gamache</td>\n",
       "    </tr>\n",
       "    <tr>\n",
       "      <th>4887</th>\n",
       "      <td>US</td>\n",
       "      <td>Estate</td>\n",
       "      <td>normal</td>\n",
       "      <td>general</td>\n",
       "      <td>Oregon</td>\n",
       "      <td>Willamette Valley</td>\n",
       "      <td>Willamette Valley</td>\n",
       "      <td>Paul Gregutt</td>\n",
       "      <td>Chardonnay</td>\n",
       "      <td>Willamette Valley Vineyards</td>\n",
       "    </tr>\n",
       "  </tbody>\n",
       "</table>\n",
       "</div>"
      ],
      "text/plain": [
       "     country   designation  points    price    province              region_1  \\\n",
       "260       US        Estate  normal     high      Oregon     Willamette Valley   \n",
       "1939      US       Reserve  normal      low  Washington  Columbia Valley (WA)   \n",
       "2557      US        Estate  normal      low  California    Santa Clara Valley   \n",
       "2568      US  Estate Grown  normal  general  Washington  Columbia Valley (WA)   \n",
       "4887      US        Estate  normal  general      Oregon     Willamette Valley   \n",
       "\n",
       "               region_2       taster_name     variety  \\\n",
       "260   Willamette Valley      Paul Gregutt  Pinot Noir   \n",
       "1939    Columbia Valley  Sean P. Sullivan  Chardonnay   \n",
       "2557      Central Coast     Matt Kettmann      Merlot   \n",
       "2568    Columbia Valley  Sean P. Sullivan      Malbec   \n",
       "4887  Willamette Valley      Paul Gregutt  Chardonnay   \n",
       "\n",
       "                           winery  \n",
       "260   Willamette Valley Vineyards  \n",
       "1939                   Waterbrook  \n",
       "2557               Jason-Stephens  \n",
       "2568                      Gamache  \n",
       "4887  Willamette Valley Vineyards  "
      ]
     },
     "execution_count": 11,
     "metadata": {},
     "output_type": "execute_result"
    }
   ],
   "source": [
    "data.head(5)"
   ]
  },
  {
   "cell_type": "markdown",
   "metadata": {},
   "source": [
    "## 2.找出频繁模式并计算其支持度"
   ]
  },
  {
   "cell_type": "markdown",
   "metadata": {},
   "source": [
    "### 使用apriori算法挖掘频繁模式，由于该数据集本身就存在相关关系，且分析同一属性下的数据频繁模式过于繁杂，没有意义，比如分析'price'属性下的'high'和'low'的频繁模式不能说明任何问题，且算力不够。因此在这里将数据集分为10项集，对应10个属性，利用apriori算法逐项找出频繁模式"
   ]
  },
  {
   "cell_type": "markdown",
   "metadata": {},
   "source": [
    "### 定义最小支持度"
   ]
  },
  {
   "cell_type": "code",
   "execution_count": 12,
   "metadata": {},
   "outputs": [],
   "source": [
    "min_support = 0.3"
   ]
  },
  {
   "cell_type": "markdown",
   "metadata": {},
   "source": [
    "### 定义过滤函数，同时计算其支持度"
   ]
  },
  {
   "cell_type": "code",
   "execution_count": 13,
   "metadata": {},
   "outputs": [],
   "source": [
    "def frequn_patt(data, Ck, min_support):\n",
    "    # 计算Ck各项元素的支持度\n",
    "    subset_support = {}\n",
    "    for _, row in data.iterrows():\n",
    "        for ele in Ck:\n",
    "            if ele.issubset(row):\n",
    "                subset_support[ele] = subset_support.get(ele, 0) + 1\n",
    "                \n",
    "    records_num = len(data)\n",
    "    ret_list = []\n",
    "    support_data = {}\n",
    "    for subset in subset_support:\n",
    "        support = subset_support[subset]/records_num\n",
    "        if support >= min_support:\n",
    "            ret_list.insert(0, subset)\n",
    "        support_data[subset] = support\n",
    "    return ret_list, support_data"
   ]
  },
  {
   "cell_type": "markdown",
   "metadata": {},
   "source": [
    "### 计算1项集"
   ]
  },
  {
   "cell_type": "code",
   "execution_count": 14,
   "metadata": {},
   "outputs": [],
   "source": [
    "C1 = []\n",
    "for _, col in data.iteritems():\n",
    "    for item in col:\n",
    "        if not [item] in C1:\n",
    "            C1.append([item])\n",
    "\n",
    "C1 = list(map(frozenset, C1))"
   ]
  },
  {
   "cell_type": "markdown",
   "metadata": {},
   "source": [
    "### 计算其支持度"
   ]
  },
  {
   "cell_type": "code",
   "execution_count": 15,
   "metadata": {},
   "outputs": [],
   "source": [
    "L1, support_data = frequn_patt(data, C1, min_support)"
   ]
  },
  {
   "cell_type": "markdown",
   "metadata": {},
   "source": [
    "### 显示1项集的支持度"
   ]
  },
  {
   "cell_type": "code",
   "execution_count": 16,
   "metadata": {},
   "outputs": [
    {
     "data": {
      "text/plain": [
       "{frozenset({'US'}): 1.0,\n",
       " frozenset({'Estate'}): 0.5688622754491018,\n",
       " frozenset({'normal'}): 0.7065868263473054,\n",
       " frozenset({'high'}): 0.03592814371257485,\n",
       " frozenset({'Oregon'}): 0.2155688622754491,\n",
       " frozenset({'Willamette Valley'}): 0.2155688622754491,\n",
       " frozenset({'Paul Gregutt'}): 0.39520958083832336,\n",
       " frozenset({'Pinot Noir'}): 0.07784431137724551,\n",
       " frozenset({'Willamette Valley Vineyards'}): 0.08383233532934131,\n",
       " frozenset({'Reserve'}): 0.31137724550898205,\n",
       " frozenset({'low'}): 0.47904191616766467,\n",
       " frozenset({'Washington'}): 0.3712574850299401,\n",
       " frozenset({'Columbia Valley (WA)'}): 0.31736526946107785,\n",
       " frozenset({'Columbia Valley'}): 0.3712574850299401,\n",
       " frozenset({'Sean P. Sullivan'}): 0.19161676646706588,\n",
       " frozenset({'Chardonnay'}): 0.11976047904191617,\n",
       " frozenset({'Waterbrook'}): 0.10179640718562874,\n",
       " frozenset({'California'}): 0.2874251497005988,\n",
       " frozenset({'Santa Clara Valley'}): 0.08383233532934131,\n",
       " frozenset({'Central Coast'}): 0.08383233532934131,\n",
       " frozenset({'Matt Kettmann'}): 0.017964071856287425,\n",
       " frozenset({'Merlot'}): 0.10179640718562874,\n",
       " frozenset({'Jason-Stephens'}): 0.08383233532934131,\n",
       " frozenset({'Estate Grown'}): 0.05389221556886228,\n",
       " frozenset({'general'}): 0.437125748502994,\n",
       " frozenset({'Malbec'}): 0.059880239520958084,\n",
       " frozenset({'Gamache'}): 0.1377245508982036,\n",
       " frozenset({'good'}): 0.1437125748502994,\n",
       " frozenset({'highest'}): 0.04790419161676647,\n",
       " frozenset({'Cabernet Sauvignon'}): 0.16167664670658682,\n",
       " frozenset({'Cabernet Franc'}): 0.04790419161676647,\n",
       " frozenset({'bad'}): 0.1497005988023952,\n",
       " frozenset({'Sierra Foothills'}): 0.20359281437125748,\n",
       " frozenset({'Jim Gordon'}): 0.1437125748502994,\n",
       " frozenset({'Rosé'}): 0.041916167664670656,\n",
       " frozenset({'Naggiar'}): 0.11976047904191617,\n",
       " frozenset({'Petite Sirah'}): 0.029940119760479042,\n",
       " frozenset({'Dry'}): 0.0658682634730539,\n",
       " frozenset({'New York'}): 0.12574850299401197,\n",
       " frozenset({'Finger Lakes'}): 0.12574850299401197,\n",
       " frozenset({'Anna Lee C. Iijima'}): 0.11976047904191617,\n",
       " frozenset({'Riesling'}): 0.11976047904191617,\n",
       " frozenset({'Dr. Konstantin Frank'}): 0.12574850299401197,\n",
       " frozenset({'El Dorado'}): 0.08383233532934131,\n",
       " frozenset({'Virginie Boone'}): 0.12574850299401197,\n",
       " frozenset({'Syrah'}): 0.04790419161676647,\n",
       " frozenset({'Cedarville Vineyard'}): 0.08383233532934131,\n",
       " frozenset({'Grenache'}): 0.017964071856287425,\n",
       " frozenset({'Gewürztraminer'}): 0.04790419161676647,\n",
       " frozenset({'David Hill'}): 0.1317365269461078,\n",
       " frozenset({'Columbia Crest'}): 0.1317365269461078,\n",
       " frozenset({'Pinot Blanc'}): 0.029940119760479042,\n",
       " frozenset({'Zinfandel'}): 0.023952095808383235,\n",
       " frozenset({'Pinot Gris'}): 0.029940119760479042,\n",
       " frozenset({'Sauvignon Blanc'}): 0.017964071856287425,\n",
       " frozenset({'Viognier'}): 0.023952095808383235,\n",
       " frozenset({'Horse Heaven Hills'}): 0.05389221556886228,\n",
       " frozenset({'Susan Kostrzewa'}): 0.005988023952095809}"
      ]
     },
     "execution_count": 16,
     "metadata": {},
     "output_type": "execute_result"
    }
   ],
   "source": [
    "support_data"
   ]
  },
  {
   "cell_type": "markdown",
   "metadata": {},
   "source": [
    "### 大于0.3支持度的1项集如下"
   ]
  },
  {
   "cell_type": "code",
   "execution_count": 17,
   "metadata": {},
   "outputs": [
    {
     "data": {
      "text/plain": [
       "[frozenset({'general'}),\n",
       " frozenset({'Columbia Valley'}),\n",
       " frozenset({'Columbia Valley (WA)'}),\n",
       " frozenset({'Washington'}),\n",
       " frozenset({'low'}),\n",
       " frozenset({'Reserve'}),\n",
       " frozenset({'Paul Gregutt'}),\n",
       " frozenset({'normal'}),\n",
       " frozenset({'Estate'}),\n",
       " frozenset({'US'})]"
      ]
     },
     "execution_count": 17,
     "metadata": {},
     "output_type": "execute_result"
    }
   ],
   "source": [
    "L1"
   ]
  },
  {
   "cell_type": "markdown",
   "metadata": {},
   "source": [
    "### 连接计算至10项集"
   ]
  },
  {
   "cell_type": "code",
   "execution_count": 18,
   "metadata": {},
   "outputs": [
    {
     "data": {
      "text/plain": [
       "str"
      ]
     },
     "execution_count": 18,
     "metadata": {},
     "output_type": "execute_result"
    }
   ],
   "source": [
    "type(data.columns[0])"
   ]
  },
  {
   "cell_type": "code",
   "execution_count": 19,
   "metadata": {},
   "outputs": [],
   "source": [
    "attrs = []\n",
    "for _, col in data.iteritems():\n",
    "    attrs.append(_)"
   ]
  },
  {
   "cell_type": "code",
   "execution_count": 20,
   "metadata": {},
   "outputs": [],
   "source": [
    "support_all = [support_data]\n",
    "L = [L1]\n",
    "\n",
    "for k in range(2, 11):\n",
    "    # 组合\n",
    "    for cobs in itertools.combinations(attrs, k):\n",
    "        Ck = []\n",
    "        # 迭代行\n",
    "        for i, _ in data.iterrows():\n",
    "            temp = []\n",
    "            # 选择列组合的数据加入\n",
    "            for col in cobs:\n",
    "                temp.append(data[col][i])\n",
    "            if temp not in Ck:\n",
    "                Ck.append(temp)\n",
    "                \n",
    "        Ck = list(map(frozenset, Ck))\n",
    "        Lk, support_data = frequn_patt(data, Ck, min_support)\n",
    "        if len(Lk) > 0:\n",
    "            L.append(Lk)\n",
    "        support_all.append(support_data)"
   ]
  },
  {
   "cell_type": "markdown",
   "metadata": {},
   "source": [
    "### 显示所有大于0.3的频繁模式如下"
   ]
  },
  {
   "cell_type": "code",
   "execution_count": 21,
   "metadata": {},
   "outputs": [
    {
     "data": {
      "text/plain": [
       "[[frozenset({'general'}),\n",
       "  frozenset({'Columbia Valley'}),\n",
       "  frozenset({'Columbia Valley (WA)'}),\n",
       "  frozenset({'Washington'}),\n",
       "  frozenset({'low'}),\n",
       "  frozenset({'Reserve'}),\n",
       "  frozenset({'Paul Gregutt'}),\n",
       "  frozenset({'normal'}),\n",
       "  frozenset({'Estate'}),\n",
       "  frozenset({'US'})],\n",
       " [frozenset({'Reserve', 'US'}), frozenset({'Estate', 'US'})],\n",
       " [frozenset({'US', 'normal'})],\n",
       " [frozenset({'US', 'general'}), frozenset({'US', 'low'})],\n",
       " [frozenset({'US', 'Washington'})],\n",
       " [frozenset({'Columbia Valley (WA)', 'US'})],\n",
       " [frozenset({'Columbia Valley', 'US'})],\n",
       " [frozenset({'Paul Gregutt', 'US'})],\n",
       " [frozenset({'Estate', 'normal'})],\n",
       " [frozenset({'general', 'normal'}), frozenset({'low', 'normal'})],\n",
       " [frozenset({'Columbia Valley (WA)', 'Washington'})],\n",
       " [frozenset({'Columbia Valley', 'Washington'})],\n",
       " [frozenset({'Columbia Valley', 'Columbia Valley (WA)'})],\n",
       " [frozenset({'Estate', 'US', 'normal'})],\n",
       " [frozenset({'US', 'general', 'normal'}), frozenset({'US', 'low', 'normal'})],\n",
       " [frozenset({'Columbia Valley (WA)', 'US', 'Washington'})],\n",
       " [frozenset({'Columbia Valley', 'US', 'Washington'})],\n",
       " [frozenset({'Columbia Valley', 'Columbia Valley (WA)', 'US'})],\n",
       " [frozenset({'Columbia Valley', 'Columbia Valley (WA)', 'Washington'})],\n",
       " [frozenset({'Columbia Valley', 'Columbia Valley (WA)', 'US', 'Washington'})]]"
      ]
     },
     "execution_count": 21,
     "metadata": {},
     "output_type": "execute_result"
    }
   ],
   "source": [
    "L"
   ]
  },
  {
   "cell_type": "markdown",
   "metadata": {},
   "source": [
    "## 3.导出关联规则，计算其支持度和置信度，利用Lift和卡方进行评价，分析挖掘结果"
   ]
  },
  {
   "cell_type": "markdown",
   "metadata": {},
   "source": [
    "#### 首先定义一个可视化函数和一个可复用计算Lift和卡方评估的函数"
   ]
  },
  {
   "cell_type": "code",
   "execution_count": 22,
   "metadata": {},
   "outputs": [],
   "source": [
    "from prettytable import PrettyTable\n",
    "def visual(att1, att2, key1, key2, table, e_table, num):\n",
    "    un_key1 = '非'+key1\n",
    "    un_key2 = '非'+key2\n",
    "    for i in range(4):\n",
    "        table[i] = round(table[i])\n",
    "        e_table[i] = round(e_table[i])\n",
    "    x = PrettyTable(['卡方', key1, un_key1, att1])\n",
    "    x.add_row([key2, str(table[0])+'('+str(e_table[0])+')', str(table[2])+'('+str(e_table[2])+')', table[0]+table[2]])\n",
    "    x.add_row([un_key2, str(table[1])+'('+str(e_table[1])+')', str(table[3])+'('+str(e_table[3])+')', table[1]+table[3]])\n",
    "    x.add_row([att2, table[0]+table[2], table[1]+table[3], num])\n",
    "    print(x)"
   ]
  },
  {
   "cell_type": "code",
   "execution_count": 23,
   "metadata": {},
   "outputs": [],
   "source": [
    "def val(att1, att2, key1, key2, s1, s2, comb, num, vis=True, p=True):\n",
    "    lift = comb/(s1*s2)\n",
    "    table = [num*comb, num*(s2-comb), num*(s1-comb)]\n",
    "    last = num\n",
    "    for n in table:\n",
    "        last -= n\n",
    "    table.append(last)\n",
    "    e_table = [num*s1*s2, num*s2*(1-s1), num*s1*(1-s2)]\n",
    "    last = num\n",
    "    for n in e_table:\n",
    "        last -= n\n",
    "    e_table.append(last)\n",
    "    if vis:\n",
    "        visual(att1, att2, key1, key2, table, e_table, num)\n",
    "    x = 0\n",
    "    for i in range(4):\n",
    "        x += (table[i]-e_table[i])**2/e_table[i]\n",
    "    if p:\n",
    "        print('Lift： {:.3f}'.format(lift))\n",
    "        print('卡方： {:.3f}'.format(x))\n",
    "    else:\n",
    "        return lift, x"
   ]
  },
  {
   "cell_type": "markdown",
   "metadata": {},
   "source": [
    "### 重点观察有相关信息的属性之间的关联规则，比如'points'和'price'之间，分点展开如下"
   ]
  },
  {
   "cell_type": "markdown",
   "metadata": {},
   "source": [
    "### 3.1 points与price"
   ]
  },
  {
   "cell_type": "markdown",
   "metadata": {},
   "source": [
    "### points的支持度"
   ]
  },
  {
   "cell_type": "code",
   "execution_count": 24,
   "metadata": {},
   "outputs": [
    {
     "name": "stdout",
     "output_type": "stream",
     "text": [
      "frozenset({'normal'}) 0.7065868263473054\n",
      "frozenset({'good'}) 0.1437125748502994\n",
      "frozenset({'bad'}) 0.1497005988023952\n"
     ]
    }
   ],
   "source": [
    "for item in support_all[0]:\n",
    "    if item == {'bad'} or item =={'normal'} or item == {'good'}:\n",
    "        print(item, support_all[0][item])"
   ]
  },
  {
   "cell_type": "markdown",
   "metadata": {},
   "source": [
    "### price的支持度"
   ]
  },
  {
   "cell_type": "code",
   "execution_count": 25,
   "metadata": {},
   "outputs": [
    {
     "name": "stdout",
     "output_type": "stream",
     "text": [
      "frozenset({'high'}) 0.03592814371257485\n",
      "frozenset({'low'}) 0.47904191616766467\n",
      "frozenset({'general'}) 0.437125748502994\n",
      "frozenset({'highest'}) 0.04790419161676647\n"
     ]
    }
   ],
   "source": [
    "for item in support_all[0]:\n",
    "    if item == {'low'} or item =={'general'} or item == {'high'} or item == {'highest'}:\n",
    "        print(item, support_all[0][item])"
   ]
  },
  {
   "cell_type": "markdown",
   "metadata": {},
   "source": [
    "### 联合分布的支持度"
   ]
  },
  {
   "cell_type": "code",
   "execution_count": 26,
   "metadata": {},
   "outputs": [
    {
     "data": {
      "text/plain": [
       "{frozenset({'high', 'normal'}): 0.023952095808383235,\n",
       " frozenset({'low', 'normal'}): 0.32335329341317365,\n",
       " frozenset({'general', 'normal'}): 0.3473053892215569,\n",
       " frozenset({'good', 'highest'}): 0.03592814371257485,\n",
       " frozenset({'general', 'good'}): 0.03592814371257485,\n",
       " frozenset({'bad', 'low'}): 0.08982035928143713,\n",
       " frozenset({'bad', 'general'}): 0.05389221556886228,\n",
       " frozenset({'good', 'low'}): 0.0658682634730539,\n",
       " frozenset({'highest', 'normal'}): 0.011976047904191617,\n",
       " frozenset({'bad', 'high'}): 0.005988023952095809,\n",
       " frozenset({'good', 'high'}): 0.005988023952095809}"
      ]
     },
     "execution_count": 26,
     "metadata": {},
     "output_type": "execute_result"
    }
   ],
   "source": [
    "support_all[18]"
   ]
  },
  {
   "cell_type": "markdown",
   "metadata": {},
   "source": [
    "### 关联规则1： points为bad，price为low，置信度如下"
   ]
  },
  {
   "cell_type": "code",
   "execution_count": 27,
   "metadata": {},
   "outputs": [
    {
     "name": "stdout",
     "output_type": "stream",
     "text": [
      "置信度： 0.600\n"
     ]
    }
   ],
   "source": [
    "conf1 = support_all[18][frozenset({'bad', 'low'})]/support_all[0][frozenset({'bad'})]\n",
    "print('置信度： {:.3f}'.format(conf1))"
   ]
  },
  {
   "cell_type": "markdown",
   "metadata": {},
   "source": [
    "### 使用Lift和卡方进行评估"
   ]
  },
  {
   "cell_type": "code",
   "execution_count": 28,
   "metadata": {},
   "outputs": [
    {
     "name": "stdout",
     "output_type": "stream",
     "text": [
      "+-------+--------+--------+--------+\n",
      "|  卡方 |  bad   | 非bad  | points |\n",
      "+-------+--------+--------+--------+\n",
      "|  low  | 15(12) | 10(13) |   25   |\n",
      "| 非low | 65(68) | 77(74) |  142   |\n",
      "| price |   25   |  142   |  167   |\n",
      "+-------+--------+--------+--------+\n",
      "Lift： 1.252\n",
      "卡方： 1.696\n"
     ]
    }
   ],
   "source": [
    "s1 = support_all[0][frozenset({'bad'})]\n",
    "s2 = support_all[0][frozenset({'low'})]\n",
    "comb = support_all[18][frozenset({'bad', 'low'})]\n",
    "val('points', 'price', 'bad', 'low', s1, s2, comb, len(data))"
   ]
  },
  {
   "cell_type": "markdown",
   "metadata": {},
   "source": [
    "### 分析结果：可以看到Lift结果显示评分低和售价低成正相关，同时卡方检验显示期望值12低于实际值15，也为正相关，因此，我们可以说红酒的评分低可以引起其售价相对较低"
   ]
  },
  {
   "cell_type": "markdown",
   "metadata": {},
   "source": [
    "### 3.2 points与designation"
   ]
  },
  {
   "cell_type": "markdown",
   "metadata": {},
   "source": [
    "### designation选择出现较多的Estate进行分析"
   ]
  },
  {
   "cell_type": "markdown",
   "metadata": {},
   "source": [
    "### Estate和points的支持度"
   ]
  },
  {
   "cell_type": "code",
   "execution_count": 29,
   "metadata": {},
   "outputs": [
    {
     "name": "stdout",
     "output_type": "stream",
     "text": [
      "frozenset({'Estate'}) 0.5688622754491018\n"
     ]
    }
   ],
   "source": [
    "for item in support_all[0]:\n",
    "    if item == {'Estate'}:\n",
    "        print(item, support_all[0][item])"
   ]
  },
  {
   "cell_type": "code",
   "execution_count": 30,
   "metadata": {},
   "outputs": [
    {
     "name": "stdout",
     "output_type": "stream",
     "text": [
      "frozenset({'normal'}) 0.7065868263473054\n",
      "frozenset({'good'}) 0.1437125748502994\n",
      "frozenset({'bad'}) 0.1497005988023952\n"
     ]
    }
   ],
   "source": [
    "for item in support_all[0]:\n",
    "    if item == {'bad'} or item =={'normal'} or item == {'good'}:\n",
    "        print(item, support_all[0][item])"
   ]
  },
  {
   "cell_type": "markdown",
   "metadata": {},
   "source": [
    "### 联合分布的支持度"
   ]
  },
  {
   "cell_type": "code",
   "execution_count": 31,
   "metadata": {},
   "outputs": [
    {
     "data": {
      "text/plain": [
       "{frozenset({'Estate', 'normal'}): 0.38922155688622756,\n",
       " frozenset({'Reserve', 'normal'}): 0.23952095808383234,\n",
       " frozenset({'Estate Grown', 'normal'}): 0.023952095808383235,\n",
       " frozenset({'Reserve', 'good'}): 0.04790419161676647,\n",
       " frozenset({'Estate', 'good'}): 0.08982035928143713,\n",
       " frozenset({'Estate', 'bad'}): 0.08982035928143713,\n",
       " frozenset({'Dry', 'normal'}): 0.05389221556886228,\n",
       " frozenset({'Estate Grown', 'bad'}): 0.029940119760479042,\n",
       " frozenset({'Reserve', 'bad'}): 0.023952095808383235,\n",
       " frozenset({'Dry', 'good'}): 0.005988023952095809,\n",
       " frozenset({'Dry', 'bad'}): 0.005988023952095809}"
      ]
     },
     "execution_count": 31,
     "metadata": {},
     "output_type": "execute_result"
    }
   ],
   "source": [
    "support_all[10]"
   ]
  },
  {
   "cell_type": "markdown",
   "metadata": {},
   "source": [
    "### 关联规则2： designation为Estate，points为normal，置信度如下"
   ]
  },
  {
   "cell_type": "code",
   "execution_count": 32,
   "metadata": {},
   "outputs": [
    {
     "name": "stdout",
     "output_type": "stream",
     "text": [
      "置信度： 0.684\n"
     ]
    }
   ],
   "source": [
    "conf2 = support_all[10][frozenset({'Estate', 'normal'})]/support_all[0][frozenset({'Estate'})]\n",
    "print('置信度： {:.3f}'.format(conf2))"
   ]
  },
  {
   "cell_type": "markdown",
   "metadata": {},
   "source": [
    "### 使用Lift和卡方进行评估"
   ]
  },
  {
   "cell_type": "code",
   "execution_count": 33,
   "metadata": {},
   "outputs": [
    {
     "name": "stdout",
     "output_type": "stream",
     "text": [
      "+----------+--------+----------+-------------+\n",
      "|   卡方   | Estate | 非Estate | designation |\n",
      "+----------+--------+----------+-------------+\n",
      "|  normal  | 65(67) |  30(28)  |      95     |\n",
      "| 非normal | 53(51) |  19(21)  |      72     |\n",
      "| pointse  |   95   |    72    |     167     |\n",
      "+----------+--------+----------+-------------+\n",
      "Lift： 0.968\n",
      "卡方： 0.471\n"
     ]
    }
   ],
   "source": [
    "s1 = support_all[0][frozenset({'Estate'})]\n",
    "s2 = support_all[0][frozenset({'normal'})]\n",
    "comb = support_all[10][frozenset({'Estate', 'normal'})]\n",
    "val('designation', 'pointse', 'Estate', 'normal', s1, s2, comb, len(data))"
   ]
  },
  {
   "cell_type": "markdown",
   "metadata": {},
   "source": [
    "### 分析结果：可以看到Lift结果显示设计师为Estate和品质为normal成负相关，同时卡方检验显示期望值67低于实际值65，也为负相关，因此，我们可以说红酒的设计师为Estate时，其品质一般不是normal，由于Lift值接近于1，卡方值也比较小，因此这种相关性比较微弱"
   ]
  },
  {
   "cell_type": "markdown",
   "metadata": {},
   "source": [
    "## 4.可视化分析"
   ]
  },
  {
   "cell_type": "code",
   "execution_count": 48,
   "metadata": {},
   "outputs": [],
   "source": [
    "x = []\n",
    "y = []\n",
    "for i in range(1, 45):\n",
    "    for item in support_all[i]:\n",
    "        sb = support_all[i][item]\n",
    "        for att in item:\n",
    "            temp = frozenset([att])\n",
    "            s = support_all[0][temp]\n",
    "            x.append(s)\n",
    "            c = sb/s\n",
    "            y.append(c)"
   ]
  },
  {
   "cell_type": "markdown",
   "metadata": {},
   "source": [
    "### 绘制support--confidence图像"
   ]
  },
  {
   "cell_type": "code",
   "execution_count": 49,
   "metadata": {},
   "outputs": [
    {
     "data": {
      "image/png": "[encoded data removed]",
      "text/plain": [
       "<Figure size 1440x720 with 1 Axes>"
      ]
     },
     "metadata": {},
     "output_type": "display_data"
    }
   ],
   "source": [
    "import matplotlib.pyplot as plt\n",
    "\n",
    "plt.figure(figsize=(20,10))\n",
    "plt.xlabel('support')\n",
    "plt.ylabel('confidence')\n",
    "plt.scatter(x, y)\n",
    "plt.show()"
   ]
  },
  {
   "cell_type": "markdown",
   "metadata": {},
   "source": [
    "### 可以看到，存在部分支持度为1的点和置信度为1的点，通过分析可以知道支持度为1的点来源于'US'，因为在预处理环节删除了部分数据，导致'country'属性下的变量值全是'US'。将该属性忽略后进行可视化和分析"
   ]
  },
  {
   "cell_type": "code",
   "execution_count": 36,
   "metadata": {},
   "outputs": [],
   "source": [
    "x1 = []\n",
    "y1 = []\n",
    "for i in range(10, 45):\n",
    "    for item in support_all[i]:\n",
    "        sb = support_all[i][item]\n",
    "        for att in item:\n",
    "            temp = frozenset([att])\n",
    "            s = support_all[0][temp]\n",
    "            x1.append(s)\n",
    "            c = sb/s\n",
    "            y1.append(c)"
   ]
  },
  {
   "cell_type": "code",
   "execution_count": 37,
   "metadata": {},
   "outputs": [
    {
     "data": {
      "image/png": "[encoded data removed]",
      "text/plain": [
       "<Figure size 1440x720 with 1 Axes>"
      ]
     },
     "metadata": {},
     "output_type": "display_data"
    }
   ],
   "source": [
    "plt.figure(figsize=(20,10))\n",
    "plt.xlabel('support')\n",
    "plt.ylabel('confidence')\n",
    "plt.scatter(x1, y1)\n",
    "plt.show()"
   ]
  },
  {
   "cell_type": "markdown",
   "metadata": {},
   "source": [
    "### 可以看到，忽略'country'属性后支持度为1的点消失不见，但仍然存在大量支持度相等，置信度不同的点。产生这种点的原因是因为将某一个值作为因变量，比如'points'属性下的'good'，其支持度固定，然后与其他联合属性计算置信度，如和联合属性'good，high'计算会产生一个置信度，和另一个属性'good, Oregon'又会产生一个置信度，所以会出现如图所示的形状"
   ]
  },
  {
   "cell_type": "markdown",
   "metadata": {},
   "source": [
    "### 另外，可以看到的是，有部分点的置信度为1，对其因变量支持度大于0.2的部分进行重点观察"
   ]
  },
  {
   "cell_type": "code",
   "execution_count": 38,
   "metadata": {},
   "outputs": [
    {
     "name": "stdout",
     "output_type": "stream",
     "text": [
      "California   frozenset({'Estate', 'California'})   support: 0.2874251497005988\n",
      "Sierra Foothills   frozenset({'Estate', 'Sierra Foothills'})   support: 0.20359281437125748\n",
      "Sierra Foothills   frozenset({'Estate', 'Sierra Foothills'})   support: 0.20359281437125748\n",
      "Willamette Valley   frozenset({'Willamette Valley', 'Oregon'})   support: 0.2155688622754491\n",
      "Oregon   frozenset({'Willamette Valley', 'Oregon'})   support: 0.2155688622754491\n",
      "Columbia Valley (WA)   frozenset({'Columbia Valley (WA)', 'Washington'})   support: 0.31736526946107785\n",
      "Sierra Foothills   frozenset({'Sierra Foothills', 'California'})   support: 0.20359281437125748\n",
      "Willamette Valley   frozenset({'Willamette Valley', 'Oregon'})   support: 0.2155688622754491\n",
      "Oregon   frozenset({'Willamette Valley', 'Oregon'})   support: 0.2155688622754491\n",
      "Columbia Valley   frozenset({'Columbia Valley', 'Washington'})   support: 0.3712574850299401\n",
      "Washington   frozenset({'Columbia Valley', 'Washington'})   support: 0.3712574850299401\n",
      "Sierra Foothills   frozenset({'Sierra Foothills', 'California'})   support: 0.20359281437125748\n",
      "Oregon   frozenset({'Paul Gregutt', 'Oregon'})   support: 0.2155688622754491\n",
      "Willamette Valley   frozenset({'Willamette Valley'})   support: 0.2155688622754491\n",
      "Columbia Valley (WA)   frozenset({'Columbia Valley', 'Columbia Valley (WA)'})   support: 0.31736526946107785\n",
      "Sierra Foothills   frozenset({'Sierra Foothills'})   support: 0.20359281437125748\n",
      "Willamette Valley   frozenset({'Willamette Valley', 'Paul Gregutt'})   support: 0.2155688622754491\n",
      "Willamette Valley   frozenset({'Willamette Valley', 'Paul Gregutt'})   support: 0.2155688622754491\n",
      "总数为: 18\n"
     ]
    }
   ],
   "source": [
    "count = 0\n",
    "for i in range(10, 45):\n",
    "    for item in support_all[i]:\n",
    "        sb = support_all[i][item]\n",
    "        for att in item:\n",
    "            temp = frozenset([att])\n",
    "            s = support_all[0][temp]\n",
    "            c = sb/s\n",
    "            if c == 1 and s > 0.2:\n",
    "                print(att, ' ', item, '  support:', s)\n",
    "                count += 1\n",
    "print('总数为:', count)"
   ]
  },
  {
   "cell_type": "markdown",
   "metadata": {},
   "source": [
    "### 出现了部分重复数据，经过分析发现是由于'region_1'和'region_2'里面有部分值完全一致，因此这里仅保留'region_1'进行可视化和观察"
   ]
  },
  {
   "cell_type": "code",
   "execution_count": 39,
   "metadata": {},
   "outputs": [],
   "source": [
    "x2 = []\n",
    "y2 = []\n",
    "i = 10\n",
    "jump = [6, 14, 21, 27, 32, 36, 40, 41, 42]\n",
    "while i < 46:\n",
    "    if i in jump:\n",
    "        i += 1\n",
    "        continue\n",
    "    for item in support_all[i]:\n",
    "        sb = support_all[i][item]\n",
    "        for att in item:\n",
    "            temp = frozenset([att])\n",
    "            s = support_all[0][temp]\n",
    "            x2.append(s)\n",
    "            c = sb/s\n",
    "            y2.append(c)\n",
    "    i += 1"
   ]
  },
  {
   "cell_type": "code",
   "execution_count": 40,
   "metadata": {},
   "outputs": [
    {
     "data": {
      "image/png": "[encoded data removed]",
      "text/plain": [
       "<Figure size 1440x720 with 1 Axes>"
      ]
     },
     "metadata": {},
     "output_type": "display_data"
    }
   ],
   "source": [
    "plt.figure(figsize=(20,10))\n",
    "plt.xlabel('support')\n",
    "plt.ylabel('confidence')\n",
    "plt.scatter(x2, y2)\n",
    "plt.show()"
   ]
  },
  {
   "cell_type": "markdown",
   "metadata": {},
   "source": [
    "### 去重后图像基本没有变化，还是对置信度为1且因变量支持度大于0.2的点进行进一步分析"
   ]
  },
  {
   "cell_type": "code",
   "execution_count": 41,
   "metadata": {},
   "outputs": [
    {
     "name": "stdout",
     "output_type": "stream",
     "text": [
      "California   frozenset({'Estate', 'California'})   support: 0.2874251497005988\n",
      "Sierra Foothills   frozenset({'Estate', 'Sierra Foothills'})   support: 0.20359281437125748\n",
      "Willamette Valley   frozenset({'Willamette Valley', 'Oregon'})   support: 0.2155688622754491\n",
      "Oregon   frozenset({'Willamette Valley', 'Oregon'})   support: 0.2155688622754491\n",
      "Columbia Valley (WA)   frozenset({'Columbia Valley (WA)', 'Washington'})   support: 0.31736526946107785\n",
      "Sierra Foothills   frozenset({'Sierra Foothills', 'California'})   support: 0.20359281437125748\n",
      "Oregon   frozenset({'Paul Gregutt', 'Oregon'})   support: 0.2155688622754491\n",
      "Willamette Valley   frozenset({'Willamette Valley', 'Paul Gregutt'})   support: 0.2155688622754491\n",
      "总数为：  8\n"
     ]
    }
   ],
   "source": [
    "i = 10\n",
    "jump = [6, 14, 21, 27, 32, 36, 40, 41, 42]\n",
    "count = 0\n",
    "while i < 46:\n",
    "    if i in jump:\n",
    "        i += 1\n",
    "        continue\n",
    "    for item in support_all[i]:\n",
    "        sb = support_all[i][item]\n",
    "        for att in item:\n",
    "            temp = frozenset([att])\n",
    "            s = support_all[0][temp]\n",
    "            c = sb/s\n",
    "            if c == 1 and s > 0.2:\n",
    "                print(att, ' ', item, '  support:', s)\n",
    "                count += 1\n",
    "    i += 1\n",
    "print('总数为： ', count)"
   ]
  },
  {
   "cell_type": "markdown",
   "metadata": {},
   "source": [
    "### 去重后，总数变少。可以看到，'province'为'California'时，'designation'肯定是'Estate'，即Estate是加州的御用设计师。同时，当'province'为'Oregon'时，'taster_name'肯定是'Paul Gregutt'，即Paul Gregutt是Oregon的御用品尝家。"
   ]
  },
  {
   "cell_type": "markdown",
   "metadata": {},
   "source": [
    "### 还有很多有意思的地方，现将所有置信度为1的点打印出来，大家可以自行观察"
   ]
  },
  {
   "cell_type": "markdown",
   "metadata": {},
   "source": [
    "### 比如第二条关联规则，可以看到，'designation'为'Dry'时，'price'一定为'low'，即设计师Dry只设计价格较低的红酒"
   ]
  },
  {
   "cell_type": "code",
   "execution_count": 42,
   "metadata": {},
   "outputs": [
    {
     "name": "stdout",
     "output_type": "stream",
     "text": [
      "highest   frozenset({'highest', 'Reserve'})   support: 0.04790419161676647\n",
      "Dry   frozenset({'low', 'Dry'})   support: 0.0658682634730539\n",
      "California   frozenset({'Estate', 'California'})   support: 0.2874251497005988\n",
      "Estate Grown   frozenset({'Washington', 'Estate Grown'})   support: 0.05389221556886228\n",
      "Santa Clara Valley   frozenset({'Estate', 'Santa Clara Valley'})   support: 0.08383233532934131\n",
      "Estate Grown   frozenset({'Columbia Valley (WA)', 'Estate Grown'})   support: 0.05389221556886228\n",
      "Sierra Foothills   frozenset({'Estate', 'Sierra Foothills'})   support: 0.20359281437125748\n",
      "El Dorado   frozenset({'Estate', 'El Dorado'})   support: 0.08383233532934131\n",
      "Horse Heaven Hills   frozenset({'Horse Heaven Hills', 'Reserve'})   support: 0.05389221556886228\n",
      "Matt Kettmann   frozenset({'Estate', 'Matt Kettmann'})   support: 0.017964071856287425\n",
      "Estate Grown   frozenset({'Sean P. Sullivan', 'Estate Grown'})   support: 0.05389221556886228\n",
      "Jim Gordon   frozenset({'Estate', 'Jim Gordon'})   support: 0.1437125748502994\n",
      "Virginie Boone   frozenset({'Estate', 'Virginie Boone'})   support: 0.12574850299401197\n",
      "Susan Kostrzewa   frozenset({'Susan Kostrzewa', 'Dry'})   support: 0.005988023952095809\n",
      "Pinot Noir   frozenset({'Estate', 'Pinot Noir'})   support: 0.07784431137724551\n",
      "Petite Sirah   frozenset({'Estate', 'Petite Sirah'})   support: 0.029940119760479042\n",
      "Pinot Blanc   frozenset({'Estate', 'Pinot Blanc'})   support: 0.029940119760479042\n",
      "Zinfandel   frozenset({'Estate', 'Zinfandel'})   support: 0.023952095808383235\n",
      "Pinot Gris   frozenset({'Pinot Gris', 'Estate'})   support: 0.029940119760479042\n",
      "Viognier   frozenset({'Estate', 'Viognier'})   support: 0.023952095808383235\n",
      "Waterbrook   frozenset({'Reserve', 'Waterbrook'})   support: 0.10179640718562874\n",
      "Jason-Stephens   frozenset({'Estate', 'Jason-Stephens'})   support: 0.08383233532934131\n",
      "Estate Grown   frozenset({'Gamache', 'Estate Grown'})   support: 0.05389221556886228\n",
      "Naggiar   frozenset({'Estate', 'Naggiar'})   support: 0.11976047904191617\n",
      "Cedarville Vineyard   frozenset({'Estate', 'Cedarville Vineyard'})   support: 0.08383233532934131\n",
      "David Hill   frozenset({'David Hill', 'Estate'})   support: 0.1317365269461078\n",
      "Columbia Crest   frozenset({'Columbia Crest', 'Reserve'})   support: 0.1317365269461078\n",
      "Matt Kettmann   frozenset({'normal', 'Matt Kettmann'})   support: 0.017964071856287425\n",
      "Susan Kostrzewa   frozenset({'normal', 'Susan Kostrzewa'})   support: 0.005988023952095809\n",
      "Grenache   frozenset({'normal', 'Grenache'})   support: 0.017964071856287425\n",
      "Gewürztraminer   frozenset({'normal', 'Gewürztraminer'})   support: 0.04790419161676647\n",
      "Sauvignon Blanc   frozenset({'normal', 'Sauvignon Blanc'})   support: 0.017964071856287425\n",
      "highest   frozenset({'highest', 'Washington'})   support: 0.04790419161676647\n",
      "highest   frozenset({'highest', 'Columbia Valley (WA)'})   support: 0.04790419161676647\n",
      "Susan Kostrzewa   frozenset({'low', 'Susan Kostrzewa'})   support: 0.005988023952095809\n",
      "highest   frozenset({'Cabernet Sauvignon', 'highest'})   support: 0.04790419161676647\n",
      "Cabernet Franc   frozenset({'Cabernet Franc', 'general'})   support: 0.04790419161676647\n",
      "Rosé   frozenset({'low', 'Rosé'})   support: 0.041916167664670656\n",
      "Petite Sirah   frozenset({'Petite Sirah', 'general'})   support: 0.029940119760479042\n",
      "Pinot Blanc   frozenset({'low', 'Pinot Blanc'})   support: 0.029940119760479042\n",
      "Pinot Gris   frozenset({'Pinot Gris', 'low'})   support: 0.029940119760479042\n",
      "Viognier   frozenset({'low', 'Viognier'})   support: 0.023952095808383235\n",
      "Waterbrook   frozenset({'low', 'Waterbrook'})   support: 0.10179640718562874\n",
      "David Hill   frozenset({'David Hill', 'low'})   support: 0.1317365269461078\n",
      "Willamette Valley   frozenset({'Willamette Valley', 'Oregon'})   support: 0.2155688622754491\n",
      "Oregon   frozenset({'Willamette Valley', 'Oregon'})   support: 0.2155688622754491\n",
      "Columbia Valley (WA)   frozenset({'Columbia Valley (WA)', 'Washington'})   support: 0.31736526946107785\n",
      "Santa Clara Valley   frozenset({'California', 'Santa Clara Valley'})   support: 0.08383233532934131\n",
      "Sierra Foothills   frozenset({'Sierra Foothills', 'California'})   support: 0.20359281437125748\n",
      "New York   frozenset({'New York', 'Finger Lakes'})   support: 0.12574850299401197\n",
      "Finger Lakes   frozenset({'New York', 'Finger Lakes'})   support: 0.12574850299401197\n",
      "El Dorado   frozenset({'California', 'El Dorado'})   support: 0.08383233532934131\n",
      "Horse Heaven Hills   frozenset({'Horse Heaven Hills', 'Washington'})   support: 0.05389221556886228\n",
      "Oregon   frozenset({'Paul Gregutt', 'Oregon'})   support: 0.2155688622754491\n",
      "Sean P. Sullivan   frozenset({'Sean P. Sullivan', 'Washington'})   support: 0.19161676646706588\n",
      "Matt Kettmann   frozenset({'California', 'Matt Kettmann'})   support: 0.017964071856287425\n",
      "Jim Gordon   frozenset({'California', 'Jim Gordon'})   support: 0.1437125748502994\n",
      "Anna Lee C. Iijima   frozenset({'Anna Lee C. Iijima', 'New York'})   support: 0.11976047904191617\n",
      "Virginie Boone   frozenset({'California', 'Virginie Boone'})   support: 0.12574850299401197\n",
      "Susan Kostrzewa   frozenset({'New York', 'Susan Kostrzewa'})   support: 0.005988023952095809\n",
      "Pinot Noir   frozenset({'Pinot Noir', 'Oregon'})   support: 0.07784431137724551\n",
      "Petite Sirah   frozenset({'Petite Sirah', 'California'})   support: 0.029940119760479042\n",
      "Pinot Blanc   frozenset({'Pinot Blanc', 'Oregon'})   support: 0.029940119760479042\n",
      "Zinfandel   frozenset({'Zinfandel', 'California'})   support: 0.023952095808383235\n",
      "Pinot Gris   frozenset({'Pinot Gris', 'Oregon'})   support: 0.029940119760479042\n",
      "Sauvignon Blanc   frozenset({'Sauvignon Blanc', 'Washington'})   support: 0.017964071856287425\n",
      "Viognier   frozenset({'California', 'Viognier'})   support: 0.023952095808383235\n",
      "Willamette Valley Vineyards   frozenset({'Willamette Valley Vineyards', 'Oregon'})   support: 0.08383233532934131\n",
      "Waterbrook   frozenset({'Waterbrook', 'Washington'})   support: 0.10179640718562874\n",
      "Jason-Stephens   frozenset({'California', 'Jason-Stephens'})   support: 0.08383233532934131\n",
      "Gamache   frozenset({'Gamache', 'Washington'})   support: 0.1377245508982036\n",
      "Naggiar   frozenset({'California', 'Naggiar'})   support: 0.11976047904191617\n",
      "New York   frozenset({'New York', 'Dr. Konstantin Frank'})   support: 0.12574850299401197\n",
      "Dr. Konstantin Frank   frozenset({'New York', 'Dr. Konstantin Frank'})   support: 0.12574850299401197\n",
      "Cedarville Vineyard   frozenset({'California', 'Cedarville Vineyard'})   support: 0.08383233532934131\n",
      "David Hill   frozenset({'David Hill', 'Oregon'})   support: 0.1317365269461078\n",
      "Columbia Crest   frozenset({'Columbia Crest', 'Washington'})   support: 0.1317365269461078\n",
      "Willamette Valley   frozenset({'Willamette Valley', 'Paul Gregutt'})   support: 0.2155688622754491\n",
      "Matt Kettmann   frozenset({'Matt Kettmann', 'Santa Clara Valley'})   support: 0.017964071856287425\n",
      "Jim Gordon   frozenset({'Sierra Foothills', 'Jim Gordon'})   support: 0.1437125748502994\n",
      "Anna Lee C. Iijima   frozenset({'Anna Lee C. Iijima', 'Finger Lakes'})   support: 0.11976047904191617\n",
      "Susan Kostrzewa   frozenset({'Susan Kostrzewa', 'Finger Lakes'})   support: 0.005988023952095809\n",
      "Pinot Noir   frozenset({'Willamette Valley', 'Pinot Noir'})   support: 0.07784431137724551\n",
      "Petite Sirah   frozenset({'Petite Sirah', 'Sierra Foothills'})   support: 0.029940119760479042\n",
      "Pinot Blanc   frozenset({'Willamette Valley', 'Pinot Blanc'})   support: 0.029940119760479042\n",
      "Pinot Gris   frozenset({'Pinot Gris', 'Willamette Valley'})   support: 0.029940119760479042\n",
      "Viognier   frozenset({'Sierra Foothills', 'Viognier'})   support: 0.023952095808383235\n",
      "Willamette Valley Vineyards   frozenset({'Willamette Valley', 'Willamette Valley Vineyards'})   support: 0.08383233532934131\n",
      "Waterbrook   frozenset({'Columbia Valley (WA)', 'Waterbrook'})   support: 0.10179640718562874\n",
      "Santa Clara Valley   frozenset({'Santa Clara Valley', 'Jason-Stephens'})   support: 0.08383233532934131\n",
      "Jason-Stephens   frozenset({'Santa Clara Valley', 'Jason-Stephens'})   support: 0.08383233532934131\n",
      "Gamache   frozenset({'Gamache', 'Columbia Valley (WA)'})   support: 0.1377245508982036\n",
      "Naggiar   frozenset({'Sierra Foothills', 'Naggiar'})   support: 0.11976047904191617\n",
      "Dr. Konstantin Frank   frozenset({'Dr. Konstantin Frank', 'Finger Lakes'})   support: 0.12574850299401197\n",
      "Finger Lakes   frozenset({'Dr. Konstantin Frank', 'Finger Lakes'})   support: 0.12574850299401197\n",
      "Cedarville Vineyard   frozenset({'Cedarville Vineyard', 'El Dorado'})   support: 0.08383233532934131\n",
      "El Dorado   frozenset({'Cedarville Vineyard', 'El Dorado'})   support: 0.08383233532934131\n",
      "David Hill   frozenset({'David Hill', 'Willamette Valley'})   support: 0.1317365269461078\n",
      "Horse Heaven Hills   frozenset({'Horse Heaven Hills', 'Columbia Crest'})   support: 0.05389221556886228\n",
      "Pinot Noir   frozenset({'Pinot Noir', 'Paul Gregutt'})   support: 0.07784431137724551\n",
      "Pinot Blanc   frozenset({'Pinot Blanc', 'Paul Gregutt'})   support: 0.029940119760479042\n",
      "Pinot Gris   frozenset({'Pinot Gris', 'Paul Gregutt'})   support: 0.029940119760479042\n",
      "Susan Kostrzewa   frozenset({'Susan Kostrzewa', 'Rosé'})   support: 0.005988023952095809\n",
      "Willamette Valley Vineyards   frozenset({'Willamette Valley Vineyards', 'Paul Gregutt'})   support: 0.08383233532934131\n",
      "Matt Kettmann   frozenset({'Matt Kettmann', 'Jason-Stephens'})   support: 0.017964071856287425\n",
      "Anna Lee C. Iijima   frozenset({'Anna Lee C. Iijima', 'Dr. Konstantin Frank'})   support: 0.11976047904191617\n",
      "David Hill   frozenset({'David Hill', 'Paul Gregutt'})   support: 0.1317365269461078\n",
      "Susan Kostrzewa   frozenset({'Susan Kostrzewa', 'Dr. Konstantin Frank'})   support: 0.005988023952095809\n",
      "Petite Sirah   frozenset({'Petite Sirah', 'Naggiar'})   support: 0.029940119760479042\n",
      "Pinot Blanc   frozenset({'David Hill', 'Pinot Blanc'})   support: 0.029940119760479042\n",
      "Pinot Gris   frozenset({'Pinot Gris', 'David Hill'})   support: 0.029940119760479042\n",
      "总数为：  111\n"
     ]
    }
   ],
   "source": [
    "i = 10\n",
    "jump = [6, 14, 21, 27, 32, 36, 40, 41, 42]\n",
    "count = 0\n",
    "att_comb = []\n",
    "s_comb = []\n",
    "allitem = []\n",
    "while i < 46:\n",
    "    if i in jump:\n",
    "        i += 1\n",
    "        continue\n",
    "    for item in support_all[i]:\n",
    "        sb = support_all[i][item]\n",
    "        for att in item:\n",
    "            temp = frozenset([att])\n",
    "            s = support_all[0][temp]\n",
    "            c = sb/s\n",
    "            if c == 1:\n",
    "                print(att, ' ', item, '  support:', s)\n",
    "                allitem.append([att, item])\n",
    "                att_comb.append(item)\n",
    "                s_comb.append(sb)\n",
    "                count += 1\n",
    "    i += 1\n",
    "print('总数为： ', count)"
   ]
  },
  {
   "cell_type": "markdown",
   "metadata": {},
   "source": [
    "### 绘制置信度为1部分的support--lift和support--X表进行观察(X表示卡方)"
   ]
  },
  {
   "cell_type": "code",
   "execution_count": 43,
   "metadata": {},
   "outputs": [],
   "source": [
    "lift_list = []\n",
    "x_list = []\n",
    "for i in range(len(att_comb)):\n",
    "    item =  list(att_comb[i])\n",
    "    x, y = item[0], item[1]\n",
    "    s1 = support_all[0][frozenset([x])]\n",
    "    s2 = support_all[0][frozenset([y])]\n",
    "    r1, r2 = val('', '', '', '', s1, s2, s_comb[i], len(data), False, False)\n",
    "    lift_list.append(r1)\n",
    "    x_list.append(r2)"
   ]
  },
  {
   "cell_type": "code",
   "execution_count": 44,
   "metadata": {},
   "outputs": [
    {
     "data": {
      "image/png": "[encoded data removed]",
      "text/plain": [
       "<Figure size 1440x720 with 1 Axes>"
      ]
     },
     "metadata": {},
     "output_type": "display_data"
    }
   ],
   "source": [
    "plt.figure(figsize=(20,10))\n",
    "plt.xlabel('support')\n",
    "plt.ylabel('lift')\n",
    "plt.scatter(s_comb, lift_list)\n",
    "plt.show()"
   ]
  },
  {
   "cell_type": "markdown",
   "metadata": {},
   "source": [
    "### 左上角有一点大于20，明显的正相关，打印出来观察"
   ]
  },
  {
   "cell_type": "code",
   "execution_count": 45,
   "metadata": {},
   "outputs": [
    {
     "name": "stdout",
     "output_type": "stream",
     "text": [
      "['Susan Kostrzewa', frozenset({'Susan Kostrzewa', 'Rosé'})]\n"
     ]
    }
   ],
   "source": [
    "for i in range(len(lift_list)):\n",
    "    if lift_list[i] > 20:\n",
    "        print(allitem[i])"
   ]
  },
  {
   "cell_type": "markdown",
   "metadata": {},
   "source": [
    "### 可以看到，'taster_name'的'Susan Kostrzewa'和'variety'的'Rose'有强烈的正相关，很可能是合作关系"
   ]
  },
  {
   "cell_type": "code",
   "execution_count": 46,
   "metadata": {},
   "outputs": [
    {
     "data": {
      "image/png": "[encoded data removed]",
      "text/plain": [
       "<Figure size 1440x720 with 1 Axes>"
      ]
     },
     "metadata": {},
     "output_type": "display_data"
    }
   ],
   "source": [
    "plt.figure(figsize=(20,10))\n",
    "plt.xlabel('support')\n",
    "plt.ylabel('X')\n",
    "plt.scatter(s_comb, x_list)\n",
    "plt.show()"
   ]
  },
  {
   "cell_type": "markdown",
   "metadata": {},
   "source": [
    "### 同样的，卡方显示大多数点的值超过1，存在强烈的相关性，分析方法如上，不在此赘述"
   ]
  }
 ],
 "metadata": {
  "kernelspec": {
   "display_name": "Python 3",
   "language": "python",
   "name": "python3"
  },
  "language_info": {
   "codemirror_mode": {
    "name": "ipython",
    "version": 3
   },
   "file_extension": ".py",
   "mimetype": "text/x-python",
   "name": "python",
   "nbconvert_exporter": "python",
   "pygments_lexer": "ipython3",
   "version": "3.6.5"
  }
 },
 "nbformat": 4,
 "nbformat_minor": 2
}
